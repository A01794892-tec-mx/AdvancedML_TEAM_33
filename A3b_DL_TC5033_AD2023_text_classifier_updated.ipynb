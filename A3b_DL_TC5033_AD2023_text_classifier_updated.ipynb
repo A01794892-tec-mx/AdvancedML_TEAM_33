{
 "cells": [
  {
   "cell_type": "markdown",
   "id": "940c6dbc",
   "metadata": {
    "id": "940c6dbc"
   },
   "source": [
    "## TC 5033\n",
    "### Word Embeddings\n",
    "\n",
    "<br>\n",
    "\n",
    "#### Activity 3b: Text Classification using RNNs and AG_NEWS dataset in PyTorch\n",
    "<br>\n",
    "\n",
    "\n",
    "![image.png](data:image/png;base64,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)\n",
    "\n",
    "## TEAM 33\n",
    "| ID          | Name                          |\n",
    "|-------------|-------------------------------|\n",
    "| A01794956   | Luis Oporto                   |\n",
    "| A00915255   | Ernesto Zapata                |\n",
    "| A01065270   | José Manuel Romo Peredo       |\n",
    "| A01795483   | Nicolás Araque                |\n",
    "| A01794892   | Eduardo Rodriguez Ramirez     |\n",
    "\n",
    "- Objective:\n",
    "    - Understand the basics of Recurrent Neural Networks (RNNs) and their application in text classification.\n",
    "    - Learn how to handle a real-world text dataset, AG_NEWS, in PyTorch.\n",
    "    - Gain hands-on experience in defining, training, and evaluating a text classification model in PyTorch.\n",
    "    \n",
    "<br>\n",
    "\n",
    "- Instructions:\n",
    "    - Data Preparation: Starter code will be provided that loads the AG_NEWS dataset and prepares it for training. Do not modify this part. However, you should be sure to understand it, and comment it, the use of markdown cells is suggested.\n",
    "\n",
    "    - Model Setup: A skeleton code for the RNN model class will be provided. Complete this class and use it to instantiate your model.\n",
    "\n",
    "    - Implementing Accuracy Function: Write a function that takes model predictions and ground truth labels as input and returns the model's accuracy.\n",
    "\n",
    "    - Training Function: Implement a function that performs training on the given model using the AG_NEWS dataset. Your model should achieve an accuracy of at least 80% to get full marks for this part.\n",
    "\n",
    "    - Text Sampling: Write a function that takes a sample text as input and classifies it using your trained model.\n",
    "\n",
    "    - Confusion Matrix: Implement a function to display the confusion matrix for your model on the test data.\n",
    "\n",
    "    - Submission: Submit your completed Jupyter Notebook. Make sure to include a markdown cell at the beginning of the notebook that lists the names of all team members. Teams should consist of 3 to 4 members.\n",
    "    \n",
    "<br>\n",
    "\n",
    "- Evaluation Criteria:\n",
    "\n",
    "    - Correct setup of all the required libraries and modules (10%)\n",
    "    - Code Quality (30%): Your code should be well-organized, clearly commented, and easy to follow. Use also markdown cells for clarity. Comments should be given for all the provided code, this will help you understand its functionality.\n",
    "    \n",
    "   - Functionality (60%):\n",
    "        - All the functions should execute without errors and provide the expected outputs.\n",
    "        - RNN model class (20%)\n",
    "        - Accuracy fucntion (10%)\n",
    "        - Training function (10%)\n",
    "        - Sampling function (10%)\n",
    "        - Confucion matrix (10%)\n",
    "\n",
    "        - The model should achieve at least an 80% accuracy on the AG_NEWS test set for full marks in this criterion.\n"
   ]
  },
  {
   "cell_type": "markdown",
   "id": "4de318da",
   "metadata": {
    "id": "4de318da"
   },
   "source": [
    "Dataset\n",
    "\n",
    "https://pytorch.org/text/stable/datasets.html#text-classification\n",
    "\n",
    "https://paperswithcode.com/dataset/ag-news\n"
   ]
  },
  {
   "cell_type": "markdown",
   "id": "4a9801f9",
   "metadata": {
    "id": "4a9801f9"
   },
   "source": [
    "#### Install libraries (if needed)"
   ]
  },
  {
   "cell_type": "markdown",
   "id": "97QE07qUQXN4",
   "metadata": {
    "id": "97QE07qUQXN4"
   },
   "source": [
    "You may need to install the following libraries to ensure version compatibility. After installing them, please Restart the Session (Runtime -> Restart Session)"
   ]
  },
  {
   "cell_type": "code",
   "execution_count": 1,
   "id": "54394f53",
   "metadata": {
    "colab": {
     "base_uri": "https://localhost:8080/"
    },
    "executionInfo": {
     "elapsed": 197855,
     "status": "ok",
     "timestamp": 1730926937697,
     "user": {
      "displayName": "José Antonio Cantoral Ceballos",
      "userId": "04961139803161381162"
     },
     "user_tz": 360
    },
    "id": "54394f53",
    "outputId": "01dd9e91-176b-4879-f052-aaf17a90ef72"
   },
   "outputs": [],
   "source": [
    "#!pip install torch==2.0.1 torchvision==0.15.2 torchaudio==2.0.2 torchtext==0.15.2"
   ]
  },
  {
   "cell_type": "code",
   "execution_count": 2,
   "id": "3m9B33A8QOiI",
   "metadata": {
    "colab": {
     "base_uri": "https://localhost:8080/",
     "height": 919
    },
    "executionInfo": {
     "elapsed": 19793,
     "status": "ok",
     "timestamp": 1730927022196,
     "user": {
      "displayName": "José Antonio Cantoral Ceballos",
      "userId": "04961139803161381162"
     },
     "user_tz": 360
    },
    "id": "3m9B33A8QOiI",
    "outputId": "252d46f9-a554-4b2e-e736-9c7db762ae5c"
   },
   "outputs": [],
   "source": [
    "# !pip install scipy==1.9.3\n",
    "# !pip install scikit-plot\n",
    "#you may receive a message of restarting session, this is OK"
   ]
  },
  {
   "cell_type": "code",
   "execution_count": 3,
   "id": "SfzuGL4LQRGc",
   "metadata": {
    "colab": {
     "base_uri": "https://localhost:8080/"
    },
    "executionInfo": {
     "elapsed": 3492,
     "status": "ok",
     "timestamp": 1730927048021,
     "user": {
      "displayName": "José Antonio Cantoral Ceballos",
      "userId": "04961139803161381162"
     },
     "user_tz": 360
    },
    "id": "SfzuGL4LQRGc",
    "outputId": "5302fbaf-e902-42d0-fb30-96a31ae86d19"
   },
   "outputs": [],
   "source": [
    "# !pip install portalocker\n",
    "#please restar session after this intallation. After restarting go straight to importing the libraries"
   ]
  },
  {
   "cell_type": "markdown",
   "id": "9IUa6uRqQtGu",
   "metadata": {
    "id": "9IUa6uRqQtGu"
   },
   "source": [
    "## Import libraries"
   ]
  },
  {
   "cell_type": "code",
   "execution_count": null,
   "id": "878b524f",
   "metadata": {
    "executionInfo": {
     "elapsed": 7208,
     "status": "ok",
     "timestamp": 1730927094550,
     "user": {
      "displayName": "José Antonio Cantoral Ceballos",
      "userId": "04961139803161381162"
     },
     "user_tz": 360
    },
    "id": "878b524f"
   },
   "outputs": [],
   "source": [
    "# The following libraries are required for running the given code\n",
    "# Please feel free to add any libraries you consider adecuate to complete the assingment.\n",
    "import numpy as np\n",
    "#PyTorch libraries\n",
    "import torch\n",
    "from torchtext.datasets import AG_NEWS\n",
    "# Dataloader library\n",
    "from torch.utils.data import DataLoader\n",
    "from torch.utils.data.dataset import random_split\n",
    "# Libraries to prepare the data\n",
    "from torchtext.data.utils import get_tokenizer\n",
    "from torchtext.vocab import build_vocab_from_iterator\n",
    "from torchtext.data.functional import to_map_style_dataset\n",
    "# neural layers\n",
    "from torch import nn\n",
    "from torch.nn import functional as F\n",
    "\n",
    "# These libraries are suggested to plot confusion matrix\n",
    "# you may use others\n",
    "import scikitplot as skplt\n",
    "import gc\n",
    "from matplotlib import pyplot as plt\n",
    "import random"
   ]
  },
  {
   "cell_type": "code",
   "execution_count": 5,
   "id": "3bab55f3",
   "metadata": {
    "colab": {
     "base_uri": "https://localhost:8080/"
    },
    "executionInfo": {
     "elapsed": 159,
     "status": "ok",
     "timestamp": 1730927097048,
     "user": {
      "displayName": "José Antonio Cantoral Ceballos",
      "userId": "04961139803161381162"
     },
     "user_tz": 360
    },
    "id": "3bab55f3",
    "outputId": "ceeb9cf1-327b-4c48-deda-c550651803ec"
   },
   "outputs": [
    {
     "name": "stdout",
     "output_type": "stream",
     "text": [
      "cpu\n"
     ]
    }
   ],
   "source": [
    "# Use GPU if available\n",
    "device = torch.device(\"cuda\" if torch.cuda.is_available() else \"cpu\")\n",
    "print(device)"
   ]
  },
  {
   "cell_type": "markdown",
   "id": "3d38956d",
   "metadata": {
    "id": "3d38956d"
   },
   "source": [
    "### Get the train and the test datasets and dataloaders"
   ]
  },
  {
   "cell_type": "markdown",
   "id": "e9c6b784",
   "metadata": {
    "id": "e9c6b784"
   },
   "source": [
    "Classes:\n",
    "\n",
    "* 1 - World\n",
    "\n",
    "* 2 - Sports\n",
    "\n",
    "* 3 - Business\n",
    "\n",
    "* 4 - Sci/Tech\n",
    "\n",
    "We will convert them to:\n",
    "\n",
    "* 0 - World\n",
    "\n",
    "* 1 - Sports\n",
    "\n",
    "* 2 - Business\n",
    "\n",
    "* 3 - Sci/Tech"
   ]
  },
  {
   "cell_type": "code",
   "execution_count": 6,
   "id": "49fbed19",
   "metadata": {
    "executionInfo": {
     "elapsed": 5438,
     "status": "ok",
     "timestamp": 1730927105127,
     "user": {
      "displayName": "José Antonio Cantoral Ceballos",
      "userId": "04961139803161381162"
     },
     "user_tz": 360
    },
    "id": "49fbed19"
   },
   "outputs": [],
   "source": [
    "train_dataset, test_dataset = AG_NEWS()\n",
    "train_dataset, test_dataset = to_map_style_dataset(train_dataset), to_map_style_dataset(test_dataset)"
   ]
  },
  {
   "cell_type": "code",
   "execution_count": 7,
   "id": "9c372eb9",
   "metadata": {
    "executionInfo": {
     "elapsed": 226,
     "status": "ok",
     "timestamp": 1730927106939,
     "user": {
      "displayName": "José Antonio Cantoral Ceballos",
      "userId": "04961139803161381162"
     },
     "user_tz": 360
    },
    "id": "9c372eb9"
   },
   "outputs": [],
   "source": [
    "# Get the tokeniser\n",
    "# tokeniser object\n",
    "tokeniser = get_tokenizer('basic_english')\n",
    "\n",
    "def yield_tokens(data):\n",
    "    for _, text in data:\n",
    "        yield tokeniser(text)"
   ]
  },
  {
   "cell_type": "code",
   "execution_count": 8,
   "id": "794d0375",
   "metadata": {
    "executionInfo": {
     "elapsed": 6165,
     "status": "ok",
     "timestamp": 1730927114676,
     "user": {
      "displayName": "José Antonio Cantoral Ceballos",
      "userId": "04961139803161381162"
     },
     "user_tz": 360
    },
    "id": "794d0375"
   },
   "outputs": [],
   "source": [
    "# Build the vocabulary\n",
    "vocab = build_vocab_from_iterator(yield_tokens(train_dataset), specials=[\"<unk>\"])\n",
    "#set unknown token at position 0\n",
    "vocab.set_default_index(vocab[\"<unk>\"])"
   ]
  },
  {
   "cell_type": "code",
   "execution_count": 9,
   "id": "b48268d4",
   "metadata": {
    "colab": {
     "base_uri": "https://localhost:8080/"
    },
    "executionInfo": {
     "elapsed": 196,
     "status": "ok",
     "timestamp": 1730927117331,
     "user": {
      "displayName": "José Antonio Cantoral Ceballos",
      "userId": "04961139803161381162"
     },
     "user_tz": 360
    },
    "id": "b48268d4",
    "outputId": "f9c839a1-8598-41e9-c8a0-5e49ce5b5a9c"
   },
   "outputs": [
    {
     "name": "stdout",
     "output_type": "stream",
     "text": [
      "['welcome', 'to', 'tc5033'] [3314, 4, 0]\n"
     ]
    }
   ],
   "source": [
    "#test tokens\n",
    "tokens = tokeniser('Welcome to TC5033')\n",
    "print(tokens, vocab(tokens))"
   ]
  },
  {
   "cell_type": "code",
   "execution_count": 10,
   "id": "c8c8f6a6",
   "metadata": {
    "executionInfo": {
     "elapsed": 200,
     "status": "ok",
     "timestamp": 1730927118687,
     "user": {
      "displayName": "José Antonio Cantoral Ceballos",
      "userId": "04961139803161381162"
     },
     "user_tz": 360
    },
    "id": "c8c8f6a6"
   },
   "outputs": [],
   "source": [
    "NUM_TRAIN = int(len(train_dataset)*0.9)\n",
    "NUM_VAL = len(train_dataset) - NUM_TRAIN"
   ]
  },
  {
   "cell_type": "code",
   "execution_count": 11,
   "id": "8290895e",
   "metadata": {
    "executionInfo": {
     "elapsed": 142,
     "status": "ok",
     "timestamp": 1730927121582,
     "user": {
      "displayName": "José Antonio Cantoral Ceballos",
      "userId": "04961139803161381162"
     },
     "user_tz": 360
    },
    "id": "8290895e"
   },
   "outputs": [],
   "source": [
    "train_dataset, val_dataset = random_split(train_dataset, [NUM_TRAIN, NUM_VAL])"
   ]
  },
  {
   "cell_type": "code",
   "execution_count": 12,
   "id": "cbc75b54",
   "metadata": {
    "colab": {
     "base_uri": "https://localhost:8080/"
    },
    "executionInfo": {
     "elapsed": 161,
     "status": "ok",
     "timestamp": 1730927125276,
     "user": {
      "displayName": "José Antonio Cantoral Ceballos",
      "userId": "04961139803161381162"
     },
     "user_tz": 360
    },
    "id": "cbc75b54",
    "outputId": "471ffecd-8d50-4c0b-8ad8-eab70f80c40d"
   },
   "outputs": [
    {
     "name": "stdout",
     "output_type": "stream",
     "text": [
      "108000 12000 7600\n"
     ]
    }
   ],
   "source": [
    "print(len(train_dataset), len(val_dataset), len(test_dataset))"
   ]
  },
  {
   "cell_type": "code",
   "execution_count": 13,
   "id": "ffdbf077",
   "metadata": {
    "executionInfo": {
     "elapsed": 160,
     "status": "ok",
     "timestamp": 1730927127379,
     "user": {
      "displayName": "José Antonio Cantoral Ceballos",
      "userId": "04961139803161381162"
     },
     "user_tz": 360
    },
    "id": "ffdbf077"
   },
   "outputs": [],
   "source": [
    "# function passed to the DataLoader to process a batch of data as indicated\n",
    "def collate_batch(batch):\n",
    "    # Get label and text\n",
    "    y, x = list(zip(*batch))\n",
    "\n",
    "    # Create list with indices from tokeniser\n",
    "    x = [vocab(tokeniser(text)) for text in x]\n",
    "    x = [t + ([0]*(max_tokens - len(t))) if len(t) < max_tokens else t[:max_tokens] for t in x]\n",
    "\n",
    "    # Prepare the labels, by subtracting 1 to get them in the range 0-3\n",
    "    return torch.tensor(x, dtype=torch.int32), torch.tensor(y, dtype=torch.int32) - 1"
   ]
  },
  {
   "cell_type": "code",
   "execution_count": 14,
   "id": "5eb459c7",
   "metadata": {
    "executionInfo": {
     "elapsed": 151,
     "status": "ok",
     "timestamp": 1730927128564,
     "user": {
      "displayName": "José Antonio Cantoral Ceballos",
      "userId": "04961139803161381162"
     },
     "user_tz": 360
    },
    "id": "5eb459c7"
   },
   "outputs": [],
   "source": [
    "labels =  [\"World\", \"Sports\", \"Business\", \"Sci/Tech\"]\n",
    "max_tokens = 50\n",
    "BATCH_SIZE = 256"
   ]
  },
  {
   "cell_type": "code",
   "execution_count": 15,
   "id": "0a55e6ee",
   "metadata": {
    "executionInfo": {
     "elapsed": 178,
     "status": "ok",
     "timestamp": 1730927129681,
     "user": {
      "displayName": "José Antonio Cantoral Ceballos",
      "userId": "04961139803161381162"
     },
     "user_tz": 360
    },
    "id": "0a55e6ee"
   },
   "outputs": [],
   "source": [
    "train_loader = DataLoader(train_dataset, batch_size=BATCH_SIZE, collate_fn=collate_batch, shuffle = True)\n",
    "val_loader = DataLoader(val_dataset, batch_size=BATCH_SIZE, collate_fn=collate_batch, shuffle = True)\n",
    "test_loader = DataLoader(test_dataset, batch_size=BATCH_SIZE, collate_fn=collate_batch, shuffle = True)"
   ]
  },
  {
   "cell_type": "markdown",
   "id": "47b98898",
   "metadata": {
    "id": "47b98898"
   },
   "source": [
    "### Let us build our RNN model"
   ]
  },
  {
   "cell_type": "code",
   "execution_count": 16,
   "id": "50f20793",
   "metadata": {
    "executionInfo": {
     "elapsed": 193,
     "status": "ok",
     "timestamp": 1730927132530,
     "user": {
      "displayName": "José Antonio Cantoral Ceballos",
      "userId": "04961139803161381162"
     },
     "user_tz": 360
    },
    "id": "50f20793"
   },
   "outputs": [],
   "source": [
    "EMBEDDING_SIZE = 300\n",
    "NEURONS = 256\n",
    "LAYERS = 2\n",
    "NUM_CLASSES = 4"
   ]
  },
  {
   "cell_type": "code",
   "execution_count": null,
   "id": "0f7f5621",
   "metadata": {
    "id": "0f7f5621",
    "outputId": "673b7ec3-7261-4848-fd8f-e1116533a8ba"
   },
   "outputs": [],
   "source": [
    "# RNN Model Class\n",
    "class RNN_Model_1(nn.Module):\n",
    "\n",
    "    def __init__(self, embed_size, hidden, layers, num_classes):\n",
    "        super(RNN_Model_1, self).__init__()\n",
    "        self.embedding_layer = nn.Embedding(num_embeddings=len(vocab), embedding_dim=embed_size)\n",
    "        self.rnn = nn.LSTM(input_size=embed_size, hidden_size=hidden, num_layers=layers, batch_first=True)\n",
    "        self.fc = nn.Linear(hidden, num_classes)\n",
    "\n",
    "    def forward(self, x):\n",
    "        x = self.embedding_layer(x)\n",
    "        out, _ = self.rnn(x)\n",
    "        \n",
    "        out = out[:, -1, :]\n",
    "        \n",
    "        out = self.fc(out)\n",
    "        return out"
   ]
  },
  {
   "cell_type": "code",
   "execution_count": null,
   "id": "2a42613f",
   "metadata": {
    "code_folding": [],
    "id": "2a42613f"
   },
   "outputs": [],
   "source": [
    "# Function to evalueate model\n",
    "\n",
    "def accuracy(model, loader):\n",
    "    model.eval()\n",
    "    correct = 0\n",
    "    total = 0\n",
    "    with torch.no_grad():\n",
    "        for x_batch, y_batch in loader:\n",
    "            x_batch, y_batch = x_batch.to(device), y_batch.to(device)\n",
    "            outputs = model(x_batch)\n",
    "            _, predicted = torch.max(outputs, 1)\n",
    "            total += y_batch.size(0)\n",
    "            correct += (predicted == y_batch).sum().item()\n",
    "    model.train()\n",
    "    return correct / total\n"
   ]
  },
  {
   "cell_type": "code",
   "execution_count": null,
   "id": "5e843e1f",
   "metadata": {
    "code_folding": [],
    "id": "5e843e1f"
   },
   "outputs": [],
   "source": [
    "#Trainning Loop\n",
    "def train(model, optimiser, train_loader, val_loader, epochs=10):\n",
    "    criterion = nn.CrossEntropyLoss()\n",
    "    for epoch in range(epochs):\n",
    "        model.train()\n",
    "        running_loss = 0.0\n",
    "        for x_batch, y_batch in train_loader:\n",
    "            x_batch, y_batch = x_batch.to(device), y_batch.to(device, dtype=torch.long)\n",
    "            optimiser.zero_grad()\n",
    "            outputs = model(x_batch)\n",
    "            loss = criterion(outputs, y_batch)\n",
    "            loss.backward()\n",
    "            optimiser.step()\n",
    "            running_loss += loss.item()\n",
    "        \n",
    "        val_acc = accuracy(model, val_loader)\n",
    "        print(f'Epoch [{epoch+1}/{epochs}], Loss: {running_loss/len(train_loader):.4f}, Validation Accuracy: {val_acc:.4f}')\n"
   ]
  },
  {
   "cell_type": "code",
   "execution_count": null,
   "id": "ed30693d",
   "metadata": {
    "id": "ed30693d"
   },
   "outputs": [],
   "source": [
    "#Function to get some ramdom samples, its labels and predictions\n",
    "\n",
    "def print_random_sample_predictions(model, loader, num_samples=5):\n",
    "    model.eval()\n",
    "    \n",
    "    with torch.no_grad():\n",
    "        for i, (x_batch, y_batch) in enumerate(loader):\n",
    "            selected_indices = random.sample(range(len(x_batch)), min(num_samples, len(x_batch)))\n",
    "\n",
    "            for idx in selected_indices:\n",
    "            \n",
    "                sample_text = \" \".join([vocab.get_itos()[idx] for idx in x_batch[idx] if idx != 0])\n",
    "                true_label = labels[y_batch[idx].item()]\n",
    "                \n",
    "                x_sample = x_batch[idx].unsqueeze(0).to(device)\n",
    "                output = model(x_sample)\n",
    "                _, predicted_label_idx = torch.max(output, 1)\n",
    "                predicted_label = labels[predicted_label_idx.item()]\n",
    "                \n",
    "                print(f\"Text: {sample_text}\")\n",
    "                print(f\"True Label: {true_label}, Predicted Label: {predicted_label}\\n\")\n",
    "                \n",
    "                num_samples -= 1\n",
    "                if num_samples <= 0:\n",
    "                    return\n"
   ]
  },
  {
   "cell_type": "code",
   "execution_count": null,
   "id": "bb38e093",
   "metadata": {
    "id": "bb38e093"
   },
   "outputs": [],
   "source": [
    "#Fucntion to plot confusion matrix from model predictions\n",
    "\n",
    "def plot_confusion_matrix(model, loader):\n",
    "    model.eval()\n",
    "    all_preds = []\n",
    "    all_labels = []\n",
    "    \n",
    "    with torch.no_grad():\n",
    "        for x_batch, y_batch in loader:\n",
    "            x_batch, y_batch = x_batch.to(device), y_batch.to(device)\n",
    "            outputs = model(x_batch)\n",
    "            _, preds = torch.max(outputs, 1)\n",
    "            all_preds.extend(preds.cpu().numpy())\n",
    "            all_labels.extend(y_batch.cpu().numpy())\n",
    "\n",
    "    unique_labels = np.unique(all_labels + all_preds)\n",
    "\n",
    "    skplt.metrics.plot_confusion_matrix(all_labels, all_preds, labels=unique_labels, normalize=True)\n",
    "    plt.xticks(ticks=range(len(unique_labels)), labels=[labels[i] for i in unique_labels], rotation=45)\n",
    "    plt.yticks(ticks=range(len(unique_labels)), labels=[labels[i] for i in unique_labels])\n",
    "    plt.show()\n",
    "\n"
   ]
  },
  {
   "cell_type": "code",
   "execution_count": null,
   "id": "f1bdcd04",
   "metadata": {},
   "outputs": [
    {
     "name": "stdout",
     "output_type": "stream",
     "text": [
      "Epoch [1/10], Loss: 0.6241, Validation Accuracy: 0.8792\n",
      "Epoch [2/10], Loss: 0.2927, Validation Accuracy: 0.9021\n",
      "Epoch [3/10], Loss: 0.2070, Validation Accuracy: 0.9077\n",
      "Epoch [4/10], Loss: 0.1539, Validation Accuracy: 0.9093\n",
      "Epoch [5/10], Loss: 0.1097, Validation Accuracy: 0.9065\n",
      "Epoch [6/10], Loss: 0.0799, Validation Accuracy: 0.9081\n",
      "Epoch [7/10], Loss: 0.0547, Validation Accuracy: 0.9043\n",
      "Epoch [8/10], Loss: 0.0424, Validation Accuracy: 0.9025\n",
      "Epoch [9/10], Loss: 0.0337, Validation Accuracy: 0.9049\n",
      "Epoch [10/10], Loss: 0.0266, Validation Accuracy: 0.9054\n"
     ]
    }
   ],
   "source": [
    "# Trainning the model\n",
    "# Parameters\n",
    "epochs = 10\n",
    "lr = 0.001\n",
    "\n",
    "rnn_model = RNN_Model_1(EMBEDDING_SIZE, NEURONS, LAYERS, NUM_CLASSES).to(device)\n",
    "optimiser = torch.optim.Adam(rnn_model.parameters(), lr=lr)\n",
    "\n",
    "train(rnn_model, optimiser, train_loader, val_loader, epochs=epochs)"
   ]
  },
  {
   "cell_type": "code",
   "execution_count": null,
   "id": "e7d73f69",
   "metadata": {
    "id": "e7d73f69"
   },
   "outputs": [
    {
     "name": "stdout",
     "output_type": "stream",
     "text": [
      "Test Accuracy: 0.9059\n"
     ]
    },
    {
     "data": {
      "image/png": "[encoded data removed]",
      "text/plain": [
       "<Figure size 640x480 with 2 Axes>"
      ]
     },
     "metadata": {},
     "output_type": "display_data"
    }
   ],
   "source": [
    "#Evaluating the model\n",
    "\n",
    "test_acc = accuracy(rnn_model, test_loader)\n",
    "\n",
    "print(f'Test Accuracy: {test_acc:.4f}')\n",
    "\n",
    "plot_confusion_matrix(rnn_model, test_loader)\n"
   ]
  },
  {
   "cell_type": "code",
   "execution_count": null,
   "id": "688ae612",
   "metadata": {},
   "outputs": [
    {
     "name": "stdout",
     "output_type": "stream",
     "text": [
      "Text: medtronic quarterly net up chicago ( reuters ) - medtronic inc . &lt a href=http //www . investor . reuters . com/fullquote . aspx ? ticker=mdt . n target=/stocks/quickinfo/fullquote&gt mdt . n&lt /a&gt on wednesday said its quarterly earnings rose on brisk demand for devices that manage irregular heart beats\n",
      "True Label: Business, Predicted Label: Business\n",
      "\n",
      "Text: oil companies in nigeria say they won #39 t give in to threats major oil companies operating in nigeria #39 s oil-rich southern region say they will not give in to threats of attacks on their facilities and employees by militias .\n",
      "True Label: World, Predicted Label: Business\n",
      "\n",
      "Text: champions league arsenal 1 , psv eindhoven 0 arsenal benefited from an own-goal in a 1-0 win over psv eindhoven in its opening champions league match at highbury on tuesday . the gunners largely dominated the group e match , with jose antonio\n",
      "True Label: Sports, Predicted Label: Sports\n",
      "\n",
      "Text: nortel to file restated results next year nortel networks said today that after months of trying to untangle faulty financial results , it won ' t file its 2003 and first-half 2004 results until early next year .\n",
      "True Label: Sci/Tech, Predicted Label: Business\n",
      "\n",
      "Text: us bombardment kills 5 in fallujah fallujah - us artillery shelled fallujah yesterday after overnight air and tank attacks killed five people in iraqs most rebellious city , braced for an all-out offensive now the us presidential election is over .\n",
      "True Label: World, Predicted Label: World\n",
      "\n"
     ]
    }
   ],
   "source": [
    "#Printing some random samples\n",
    "\n",
    "print_random_sample_predictions(rnn_model, test_loader, num_samples=5)"
   ]
  },
  {
   "cell_type": "markdown",
   "id": "f1d5aa8e",
   "metadata": {},
   "source": [
    "Conclusions:\n",
    "\n",
    "- The model performs well in identifying major categories, especially \"Sports,\" which has the fewest misclassifications.\n",
    "\n",
    "- There is a tendency of misclassification between \"World\" and \"Business\" and between \"Sci/Tech\" and \"Business\", these categories could benefit from additional distinguishing features or more labeled data to capture subtle differences.\n",
    "\n",
    "- Given that the model achieves high accuracy and handles clear distinctions well, it’s likely suitable for applications needing general topic classification. However, for high-stakes applications requiring precise categorization in areas with content overlap, further refinement might be needed."
   ]
  }
 ],
 "metadata": {
  "colab": {
   "provenance": []
  },
  "kernelspec": {
   "display_name": "base",
   "language": "python",
   "name": "python3"
  },
  "language_info": {
   "codemirror_mode": {
    "name": "ipython",
    "version": 3
   },
   "file_extension": ".py",
   "mimetype": "text/x-python",
   "name": "python",
   "nbconvert_exporter": "python",
   "pygments_lexer": "ipython3",
   "version": "3.11.9"
  },
  "varInspector": {
   "cols": {
    "lenName": 16,
    "lenType": 16,
    "lenVar": 40
   },
   "kernels_config": {
    "python": {
     "delete_cmd_postfix": "",
     "delete_cmd_prefix": "del ",
     "library": "var_list.py",
     "varRefreshCmd": "print(var_dic_list())"
    },
    "r": {
     "delete_cmd_postfix": ") ",
     "delete_cmd_prefix": "rm(",
     "library": "var_list.r",
     "varRefreshCmd": "cat(var_dic_list()) "
    }
   },
   "types_to_exclude": [
    "module",
    "function",
    "builtin_function_or_method",
    "instance",
    "_Feature"
   ],
   "window_display": false
  }
 },
 "nbformat": 4,
 "nbformat_minor": 5
}
